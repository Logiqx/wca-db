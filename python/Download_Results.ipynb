{
 "cells": [
  {
   "cell_type": "markdown",
   "metadata": {},
   "source": [
    "# WCA Results Database - Automated Download and Import\n",
    "\n",
    "Created by Michael George (AKA Logiqx)\n",
    "\n",
    "Download the latest database extract from https://www.worldcubeassociation.org/results/misc/export.html"
   ]
  },
  {
   "cell_type": "markdown",
   "metadata": {},
   "source": [
    "## Initialisation\n",
    "\n",
    "Basic approach to determine the project directory"
   ]
  },
  {
   "cell_type": "code",
   "execution_count": 1,
   "metadata": {},
   "outputs": [],
   "source": [
    "import os, sys\n",
    "\n",
    "projdir = os.path.realpath(os.path.join(sys.path[0], '..'))"
   ]
  },
  {
   "cell_type": "markdown",
   "metadata": {},
   "source": [
    "## Import Common Libraries\n",
    "\n",
    "Import the libraries that are used throughout this notebook"
   ]
  },
  {
   "cell_type": "code",
   "execution_count": 2,
   "metadata": {},
   "outputs": [],
   "source": [
    "# Time module used for performance counters\n",
    "import time"
   ]
  },
  {
   "cell_type": "markdown",
   "metadata": {},
   "source": [
    "## Determine the Database Details\n",
    "\n",
    "Connection details for MySQL / MariaDB database\n",
    "\n",
    "Note: You will need to specify the password in $HOME/.my.cnf"
   ]
  },
  {
   "cell_type": "code",
   "execution_count": 3,
   "metadata": {},
   "outputs": [],
   "source": [
    "hostname = os.environ['MYSQL_HOST']\n",
    "database = os.environ['MYSQL_DATABASE']\n",
    "username = os.environ['MYSQL_USER']"
   ]
  },
  {
   "cell_type": "markdown",
   "metadata": {},
   "source": [
    "## Download the ZIP\n",
    "\n",
    "Save the ZIP to the local machine."
   ]
  },
  {
   "cell_type": "code",
   "execution_count": 4,
   "metadata": {},
   "outputs": [
    {
     "name": "stdout",
     "output_type": "stream",
     "text": [
      "Download completed in 345.95 seconds\n"
     ]
    }
   ],
   "source": [
    "# Hack to force IPv4 - required on my Windows laptop for Alpine 3.13 (and newer)\n",
    "import Force_IPv4\n",
    "\n",
    "# The library urllib2 will be used for the download\n",
    "import urllib.request\n",
    "\n",
    "# Start time in fractional seconds\n",
    "pc1 = time.perf_counter()\n",
    "\n",
    "# Create file handle for the ZIP\n",
    "zip_url = \"https://www.worldcubeassociation.org/results/misc/WCA_export.sql.zip\"\n",
    "req = urllib.request.Request(zip_url, headers={'User-Agent': 'Mozilla'})\n",
    "infile = urllib.request.urlopen(req, timeout = 900)\n",
    "    \n",
    "# Write the ZIP to a local file\n",
    "zip_fn = os.path.basename(zip_url)\n",
    "with open(zip_fn, \"wb\") as outfile:\n",
    "    chunk = infile.read(4096)\n",
    "    while chunk:\n",
    "        outfile.write(chunk)\n",
    "        chunk = infile.read(4096)\n",
    "\n",
    "# Close the URL\n",
    "infile.close()\n",
    "\n",
    "# End time in fractional seconds\n",
    "pc2 = time.perf_counter()\n",
    "\n",
    "print(\"Download completed in %0.2f seconds\" % (pc2 - pc1))"
   ]
  },
  {
   "cell_type": "markdown",
   "metadata": {},
   "source": [
    "## Extract the SQL\n",
    "\n",
    "Extract the SQL script from within the ZIP file."
   ]
  },
  {
   "cell_type": "code",
   "execution_count": 5,
   "metadata": {},
   "outputs": [
    {
     "name": "stdout",
     "output_type": "stream",
     "text": [
      "Extract completed in 7.22 seconds\n"
     ]
    }
   ],
   "source": [
    "# Use the zipfile library to handle the zipfile\n",
    "import zipfile\n",
    "\n",
    "# Start time in fractional seconds\n",
    "pc1 = time.perf_counter()\n",
    "\n",
    "# Open the ZIP file\n",
    "zipfile = zipfile.ZipFile(zip_fn, \"r\")\n",
    "\n",
    "# Iterate through members\n",
    "for member in zipfile.namelist():\n",
    "    \n",
    "    # Is it the SQL?\n",
    "    if member.endswith(\".sql\"):\n",
    "        \n",
    "        # Extract the SQL\n",
    "        zipfile.extract(member)\n",
    "\n",
    "# Close the ZIP file\n",
    "zipfile.close()\n",
    "\n",
    "# End time in fractional seconds\n",
    "pc2 = time.perf_counter()\n",
    "\n",
    "print(\"Extract completed in %0.2f seconds\" % (pc2 - pc1))"
   ]
  },
  {
   "cell_type": "markdown",
   "metadata": {},
   "source": [
    "## Generic SQL Function\n",
    "\n",
    "Simple function to run a SQL script using the MySQL client"
   ]
  },
  {
   "cell_type": "code",
   "execution_count": 6,
   "metadata": {},
   "outputs": [],
   "source": [
    "import subprocess\n",
    "\n",
    "def runSqlScript(source):   \n",
    "    cmd = ['mysql', '--host=%s' % hostname, '--database=%s' % database, '--user=%s' % username, '--default-character-set=utf8']\n",
    "\n",
    "    with open(source) as infile:\n",
    "        proc = subprocess.Popen(cmd, stdin = infile, stdout = subprocess.PIPE, stderr = subprocess.PIPE)\n",
    "        stdout, stderr = proc.communicate()\n",
    "        if proc.returncode != 0:\n",
    "            raise Exception('%s returned %d: %s' % (source, proc.returncode, stderr.decode('utf-8')))"
   ]
  },
  {
   "cell_type": "markdown",
   "metadata": {},
   "source": [
    "## Populate the WCA Database\n",
    "\n",
    "Note: The actual database is expected to exist already"
   ]
  },
  {
   "cell_type": "code",
   "execution_count": 7,
   "metadata": {},
   "outputs": [
    {
     "name": "stdout",
     "output_type": "stream",
     "text": [
      "Load completed in 173.01 seconds\n"
     ]
    }
   ],
   "source": [
    "# Start time in fractional seconds\n",
    "pc1 = time.perf_counter()\n",
    "\n",
    "sqlScript = 'WCA_export.sql'\n",
    "runSqlScript(sqlScript)\n",
    "os.unlink(sqlScript)\n",
    "\n",
    "# End time in fractional seconds\n",
    "pc2 = time.perf_counter()\n",
    "\n",
    "print(\"Load completed in %0.2f seconds\" % (pc2 - pc1))"
   ]
  },
  {
   "cell_type": "markdown",
   "metadata": {},
   "source": [
    "## Schema Changes\n",
    "\n",
    "Alter tables and create table indices"
   ]
  },
  {
   "cell_type": "code",
   "execution_count": 8,
   "metadata": {},
   "outputs": [
    {
     "name": "stdout",
     "output_type": "stream",
     "text": [
      "Indexing completed in 137.94 seconds\n"
     ]
    }
   ],
   "source": [
    "# Start time in fractional seconds\n",
    "pc1 = time.perf_counter()\n",
    "\n",
    "runSqlScript(os.path.join(projdir, 'sql', 'alter_tables.sql'))\n",
    "runSqlScript(os.path.join(projdir, 'sql', 'create_indices.sql'))\n",
    "\n",
    "# End time in fractional seconds\n",
    "pc2 = time.perf_counter()\n",
    "\n",
    "print(\"Indexing completed in %0.2f seconds\" % (pc2 - pc1))"
   ]
  },
  {
   "cell_type": "markdown",
   "metadata": {},
   "source": [
    "## All Done!"
   ]
  }
 ],
 "metadata": {
  "kernelspec": {
   "display_name": "Python 3 (ipykernel)",
   "language": "python",
   "name": "python3"
  },
  "language_info": {
   "codemirror_mode": {
    "name": "ipython",
    "version": 3
   },
   "file_extension": ".py",
   "mimetype": "text/x-python",
   "name": "python",
   "nbconvert_exporter": "python",
   "pygments_lexer": "ipython3",
   "version": "3.9.7"
  }
 },
 "nbformat": 4,
 "nbformat_minor": 1
}
