{
 "cells": [
  {
   "cell_type": "markdown",
   "metadata": {},
   "source": [
    "# WCA Results - Automated Download and Import\n",
    "\n",
    "Created by Michael George (AKA Logiqx)\n",
    "\n",
    "Download the latest database extract from https://www.worldcubeassociation.org/results/misc/export.html\n",
    "\n",
    "Note: Downloads with a specific filename instead of  https://www.worldcubeassociation.org/results/misc/WCA_export.sql.zip"
   ]
  },
  {
   "cell_type": "markdown",
   "metadata": {},
   "source": [
    "## Import Common Libraries\n",
    "\n",
    "Import the libraries that are used throughout this notebook"
   ]
  },
  {
   "cell_type": "code",
   "execution_count": 2,
   "metadata": {},
   "outputs": [],
   "source": [
    "# Miscellaneous operating system interfaces\n",
    "import os\n",
    "\n",
    "# Time module used for performance counters\n",
    "import time"
   ]
  },
  {
   "cell_type": "markdown",
   "metadata": {},
   "source": [
    "## Determine the Database Details\n",
    "\n",
    "Connection details for MySQL / MariaDB database\n",
    "\n",
    "Note: You will need to specify the password in $HOME/.my.cnf"
   ]
  },
  {
   "cell_type": "code",
   "execution_count": 3,
   "metadata": {},
   "outputs": [],
   "source": [
    "hostname = os.environ['MYSQL_HOSTNAME']\n",
    "database = os.environ['MYSQL_DATABASE']\n",
    "username = os.environ['MYSQL_USER']"
   ]
  },
  {
   "cell_type": "markdown",
   "metadata": {},
   "source": [
    "## Download the HTML\n",
    "\n",
    "Fetch the database export  page from the WCA website."
   ]
  },
  {
   "cell_type": "code",
   "execution_count": 5,
   "metadata": {},
   "outputs": [],
   "source": [
    "# The library urllib2 will be used for the download\n",
    "import urllib.request\n",
    "import ssl\n",
    "\n",
    "# Do not verify certicates\n",
    "context = ssl._create_unverified_context()\n",
    "\n",
    "zip_url = \"https://www.worldcubeassociation.org/results/misc/WCA_export.sql.zip\"\n",
    "zip_fn = os.path.basename(zip_url)"
   ]
  },
  {
   "cell_type": "markdown",
   "metadata": {},
   "source": [
    "## Download the ZIP\n",
    "\n",
    "Save the ZIP to the local machine."
   ]
  },
  {
   "cell_type": "code",
   "execution_count": 5,
   "metadata": {},
   "outputs": [
    {
     "name": "stdout",
     "output_type": "stream",
     "text": [
      "Download completed in 56.89 seconds\n"
     ]
    }
   ],
   "source": [
    "# Start time in fractional seconds\n",
    "pc1 = time.perf_counter()\n",
    "\n",
    "# Create file handle for the ZIP\n",
    "infile = urllib.request.urlopen(zip_url, context=context)\n",
    "\n",
    "# Write the ZIP to a local file\n",
    "with open(zip_fn, \"wb\") as outfile:\n",
    "    outfile.write(infile.read())\n",
    "\n",
    "# Close the URL\n",
    "infile.close()\n",
    "\n",
    "# End time in fractional seconds\n",
    "pc2 = time.perf_counter()\n",
    "\n",
    "print(\"Download completed in %0.2f seconds\" % (pc2 - pc1))"
   ]
  },
  {
   "cell_type": "markdown",
   "metadata": {},
   "source": [
    "## Extract the SQL\n",
    "\n",
    "Extract the SQL script from within the ZIP file."
   ]
  },
  {
   "cell_type": "code",
   "execution_count": 6,
   "metadata": {},
   "outputs": [
    {
     "name": "stdout",
     "output_type": "stream",
     "text": [
      "Extract completed in 7.66 seconds\n"
     ]
    }
   ],
   "source": [
    "# Use the zipfile library to handle the zipfile\n",
    "import zipfile\n",
    "\n",
    "# Start time in fractional seconds\n",
    "pc1 = time.perf_counter()\n",
    "\n",
    "# Open the ZIP file\n",
    "zipfile = zipfile.ZipFile(zip_fn, \"r\")\n",
    "\n",
    "# Iterate through members\n",
    "for member in zipfile.namelist():\n",
    "    \n",
    "    # Is it the SQL?\n",
    "    if member.endswith(\".sql\"):\n",
    "        \n",
    "        # Extract the SQL\n",
    "        zipfile.extract(member)\n",
    "\n",
    "# Close the ZIP file\n",
    "zipfile.close()\n",
    "\n",
    "# End time in fractional seconds\n",
    "pc2 = time.perf_counter()\n",
    "\n",
    "print(\"Extract completed in %0.2f seconds\" % (pc2 - pc1))"
   ]
  },
  {
   "cell_type": "markdown",
   "metadata": {},
   "source": [
    "## Generic SQL Function\n",
    "\n",
    "Simple function to run a SQL script"
   ]
  },
  {
   "cell_type": "code",
   "execution_count": 7,
   "metadata": {},
   "outputs": [],
   "source": [
    "def runSqlScript(source):\n",
    "    # Construct the command line\n",
    "    cmd = 'mysql --host=%s --database=%s --user=%s --execute=\"source %s\" --default-character-set=utf8' % (hostname, database, username, source)\n",
    "\n",
    "    # Execute the command line and report any errors\n",
    "    result = os.system(cmd)\n",
    "    if result != 0:\n",
    "        print('%s returned %d' % (source, result))"
   ]
  },
  {
   "cell_type": "markdown",
   "metadata": {},
   "source": [
    "## Populate the WCA Database\n",
    "\n",
    "Note: The actual database is expected to exist already"
   ]
  },
  {
   "cell_type": "code",
   "execution_count": 8,
   "metadata": {},
   "outputs": [
    {
     "name": "stdout",
     "output_type": "stream",
     "text": [
      "Load completed in 139.71 seconds\n"
     ]
    }
   ],
   "source": [
    "# Start time in fractional seconds\n",
    "pc1 = time.perf_counter()\n",
    "\n",
    "sqlScript = 'WCA_export.sql'\n",
    "runSqlScript(sqlScript)\n",
    "os.unlink(sqlScript)\n",
    "\n",
    "# End time in fractional seconds\n",
    "pc2 = time.perf_counter()\n",
    "\n",
    "print(\"Load completed in %0.2f seconds\" % (pc2 - pc1))"
   ]
  },
  {
   "cell_type": "markdown",
   "metadata": {},
   "source": [
    "## Schema Changes\n",
    "\n",
    "Alter tables and create table indices"
   ]
  },
  {
   "cell_type": "code",
   "execution_count": 9,
   "metadata": {},
   "outputs": [
    {
     "name": "stdout",
     "output_type": "stream",
     "text": [
      "Indexing completed in 122.98 seconds\n"
     ]
    }
   ],
   "source": [
    "# Start time in fractional seconds\n",
    "pc1 = time.perf_counter()\n",
    "\n",
    "runSqlScript('../sql/alter_tables.sql')\n",
    "runSqlScript('../sql/create_indices.sql')\n",
    "\n",
    "# End time in fractional seconds\n",
    "pc2 = time.perf_counter()\n",
    "\n",
    "print(\"Indexing completed in %0.2f seconds\" % (pc2 - pc1))"
   ]
  },
  {
   "cell_type": "markdown",
   "metadata": {},
   "source": [
    "## All Done!"
   ]
  }
 ],
 "metadata": {
  "kernelspec": {
   "display_name": "Python 3",
   "language": "python",
   "name": "python3"
  },
  "language_info": {
   "codemirror_mode": {
    "name": "ipython",
    "version": 3
   },
   "file_extension": ".py",
   "mimetype": "text/x-python",
   "name": "python",
   "nbconvert_exporter": "python",
   "pygments_lexer": "ipython3",
   "version": "3.7.3"
  }
 },
 "nbformat": 4,
 "nbformat_minor": 1
}
